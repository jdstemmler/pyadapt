{
 "cells": [
  {
   "cell_type": "code",
   "execution_count": 55,
   "metadata": {
    "collapsed": true
   },
   "outputs": [],
   "source": [
    "%matplotlib inline"
   ]
  },
  {
   "cell_type": "code",
   "execution_count": 49,
   "metadata": {
    "collapsed": false
   },
   "outputs": [],
   "source": [
    "from netCDF4 import Dataset, num2date\n",
    "from collections import defaultdict\n",
    "import xarray as xr"
   ]
  },
  {
   "cell_type": "code",
   "execution_count": 40,
   "metadata": {
    "collapsed": true
   },
   "outputs": [],
   "source": [
    "test = 'data/enaaosuhsasC1.a1.20160820.000006.nc'"
   ]
  },
  {
   "cell_type": "code",
   "execution_count": 41,
   "metadata": {
    "collapsed": true
   },
   "outputs": [],
   "source": [
    "D = Dataset(test)"
   ]
  },
  {
   "cell_type": "code",
   "execution_count": 42,
   "metadata": {
    "collapsed": false
   },
   "outputs": [
    {
     "data": {
      "text/plain": [
       "odict_keys(['base_time', 'time_offset', 'time', 'scattering_voltage', 'current', 'sampling_volume', 'reference', 'temperature', 'sheath_flow', 'differential_voltage', 'unit_temperature', 'purge_flow', 'sample_pressure', 'auxiliary', 'flow', 'bin_num', 'lower_size_limit', 'upper_size_limit', 'size_distribution', 'lat', 'lon', 'alt'])"
      ]
     },
     "execution_count": 42,
     "metadata": {},
     "output_type": "execute_result"
    }
   ],
   "source": [
    "D.variables.keys()"
   ]
  },
  {
   "cell_type": "code",
   "execution_count": 44,
   "metadata": {
    "collapsed": false
   },
   "outputs": [
    {
     "name": "stdout",
     "output_type": "stream",
     "text": [
      "base_time () 0\n",
      "time_offset ('time',) 1\n",
      "time ('time',) 1\n",
      "scattering_voltage ('time',) 1\n",
      "current ('time',) 1\n",
      "sampling_volume ('time',) 1\n",
      "reference ('time',) 1\n",
      "temperature ('time',) 1\n",
      "sheath_flow ('time',) 1\n",
      "differential_voltage ('time',) 1\n",
      "unit_temperature ('time',) 1\n",
      "purge_flow ('time',) 1\n",
      "sample_pressure ('time',) 1\n",
      "auxiliary ('time',) 1\n",
      "flow ('time',) 1\n",
      "bin_num ('bin_num',) 1\n",
      "lower_size_limit ('bin_num',) 1\n",
      "upper_size_limit ('bin_num',) 1\n",
      "size_distribution ('time', 'bin_num') 2\n",
      "lat () 0\n",
      "lon () 0\n",
      "alt () 0\n"
     ]
    }
   ],
   "source": [
    "for k, v in D.variables.items():\n",
    "    print('{} {} {}'.format(k, v.dimensions, len(v.shape)))"
   ]
  },
  {
   "cell_type": "code",
   "execution_count": 45,
   "metadata": {
    "collapsed": true
   },
   "outputs": [],
   "source": [
    "exclude = ('qc_', )"
   ]
  },
  {
   "cell_type": "code",
   "execution_count": 46,
   "metadata": {
    "collapsed": true
   },
   "outputs": [],
   "source": [
    "variables = defaultdict(list)"
   ]
  },
  {
   "cell_type": "code",
   "execution_count": 47,
   "metadata": {
    "collapsed": false
   },
   "outputs": [
    {
     "data": {
      "text/plain": [
       "defaultdict(list,\n",
       "            {(): ['base_time', 'lat', 'lon', 'alt'],\n",
       "             ('bin_num',): ['bin_num', 'lower_size_limit', 'upper_size_limit'],\n",
       "             ('time',): ['time_offset',\n",
       "              'time',\n",
       "              'scattering_voltage',\n",
       "              'current',\n",
       "              'sampling_volume',\n",
       "              'reference',\n",
       "              'temperature',\n",
       "              'sheath_flow',\n",
       "              'differential_voltage',\n",
       "              'unit_temperature',\n",
       "              'purge_flow',\n",
       "              'sample_pressure',\n",
       "              'auxiliary',\n",
       "              'flow'],\n",
       "             ('time', 'bin_num'): ['size_distribution']})"
      ]
     },
     "execution_count": 47,
     "metadata": {},
     "output_type": "execute_result"
    }
   ],
   "source": [
    "for k, v in D.variables.items():\n",
    "    if any([x in k for x in exclude]):\n",
    "        continue\n",
    "    else:\n",
    "        variables[v.dimensions].append(k)\n",
    "\n",
    "variables"
   ]
  },
  {
   "cell_type": "code",
   "execution_count": 77,
   "metadata": {
    "collapsed": false
   },
   "outputs": [
    {
     "data": {
      "text/plain": [
       "<xarray.DataArray 'size_distribution' (time: 8640, bin_num: 99)>\n",
       "[855360 values with dtype=float64]\n",
       "Coordinates:\n",
       "  * time     (time) datetime64[ns] 2016-08-20T00:00:06.219999 ...\n",
       "  * bin_num  (bin_num) float64 1.0 2.0 3.0 4.0 5.0 6.0 7.0 8.0 9.0 10.0 11.0 ...\n",
       "Attributes:\n",
       "    long_name: Particle size distribution, limited by lower_size_limit and upper_size_limit\n",
       "    units: count"
      ]
     },
     "execution_count": 77,
     "metadata": {},
     "output_type": "execute_result"
    }
   ],
   "source": [
    "ds = xr.open_dataset(test)\n",
    "ds.data_vars['size_distribution']"
   ]
  },
  {
   "cell_type": "code",
   "execution_count": 82,
   "metadata": {
    "collapsed": false
   },
   "outputs": [
    {
     "data": {
      "text/plain": [
       "Coordinates:\n",
       "  * time     (time) datetime64[ns] 2016-08-20T00:00:06.219999 ...\n",
       "  * bin_num  (bin_num) float64 1.0 2.0 3.0 4.0 5.0 6.0 7.0 8.0 9.0 10.0 11.0 ..."
      ]
     },
     "execution_count": 82,
     "metadata": {},
     "output_type": "execute_result"
    }
   ],
   "source": [
    "ds.coords"
   ]
  },
  {
   "cell_type": "code",
   "execution_count": 79,
   "metadata": {
    "collapsed": false
   },
   "outputs": [
    {
     "name": "stdout",
     "output_type": "stream",
     "text": [
      "command_line aos_ingest -n aosuhsas -s ena -f C1\n",
      "process_version ingest-aos-14.17-0.el6\n",
      "dod_version aosuhsas-a1-2.2\n",
      "site_id ena\n",
      "facility_id C1: Graciosa Island, Azores\n",
      "data_level a1\n",
      "input_source /data/collection/ena/enaaosuhsasC1.00/enaaoss1.uhsas.10s.00.20160820.000000.raw.tsv\n",
      "sampling_interval 10 seconds\n",
      "averaging_interval not averaged\n",
      "serial_number N/A\n",
      "datastream enaaosuhsasC1.a1\n",
      "history created by user dsmgr on machine ruby at 2016-08-20 01:44:01, using ingest-aos-14.17-0.el6\n"
     ]
    }
   ],
   "source": [
    "for k, v in ds.attrs.items():\n",
    "    print(k, v)"
   ]
  },
  {
   "cell_type": "code",
   "execution_count": 134,
   "metadata": {
    "collapsed": false
   },
   "outputs": [],
   "source": [
    "from pyadapt.dataset import Dataset\n",
    "# import pyadapt.facilities as fc"
   ]
  },
  {
   "cell_type": "code",
   "execution_count": 135,
   "metadata": {
    "collapsed": false
   },
   "outputs": [],
   "source": [
    "d = Dataset(test)"
   ]
  },
  {
   "cell_type": "code",
   "execution_count": 137,
   "metadata": {
    "collapsed": false
   },
   "outputs": [
    {
     "data": {
      "text/plain": [
       "<xarray.Dataset>\n",
       "Dimensions:               (bin_num: 99, time: 8640)\n",
       "Coordinates:\n",
       "  * time                  (time) datetime64[ns] 2016-08-20T00:00:06.219999 ...\n",
       "  * bin_num               (bin_num) float64 1.0 2.0 3.0 4.0 5.0 6.0 7.0 8.0 ...\n",
       "Data variables:\n",
       "    base_time             datetime64[ns] 2016-08-20\n",
       "    time_offset           (time) datetime64[ns] 2016-08-20T00:00:06.219999 ...\n",
       "    scattering_voltage    (time) float64 0.931 0.895 0.89 0.884 0.896 0.895 ...\n",
       "    current               (time) float64 1.074 1.076 1.074 1.071 1.077 1.074 ...\n",
       "    sampling_volume       (time) float64 49.94 49.92 49.91 49.93 49.91 49.93 ...\n",
       "    reference             (time) float64 2.319 2.319 2.319 2.318 2.318 2.318 ...\n",
       "    temperature           (time) float64 1.237 1.237 1.237 1.237 1.237 1.237 ...\n",
       "    sheath_flow           (time) float64 585.0 584.5 584.1 584.1 584.9 584.6 ...\n",
       "    differential_voltage  (time) float64 4.095 4.095 4.095 4.095 4.095 4.095 ...\n",
       "    unit_temperature      (time) float64 303.2 303.2 303.2 303.2 303.3 303.2 ...\n",
       "    purge_flow            (time) float64 37.24 37.24 37.2 37.24 37.24 37.21 ...\n",
       "    sample_pressure       (time) float64 100.9 100.9 100.9 100.9 100.9 100.9 ...\n",
       "    auxiliary             (time) float64 0.0 0.0 0.0 0.0 0.0 0.0 0.0 0.0 0.0 ...\n",
       "    flow                  (time) float64 0.0 0.0 0.0 0.0 0.0 0.0 0.0 0.0 0.0 ...\n",
       "    lower_size_limit      (bin_num) float64 60.0 61.73 63.51 65.34 67.22 ...\n",
       "    upper_size_limit      (bin_num) float64 61.73 63.51 65.34 67.22 69.16 ...\n",
       "    size_distribution     (time, bin_num) float64 9.0 13.0 24.0 33.0 31.0 ...\n",
       "    lat                   float32 39.09\n",
       "    lon                   float32 -28.03\n",
       "    alt                   float32 30.48\n",
       "Attributes:\n",
       "    command_line: aos_ingest -n aosuhsas -s ena -f C1\n",
       "    process_version: ingest-aos-14.17-0.el6\n",
       "    dod_version: aosuhsas-a1-2.2\n",
       "    site_id: ena\n",
       "    facility_id: C1: Graciosa Island, Azores\n",
       "    data_level: a1\n",
       "    input_source: /data/collection/ena/enaaosuhsasC1.00/enaaoss1.uhsas.10s.00.20160820.000000.raw.tsv\n",
       "    sampling_interval: 10 seconds\n",
       "    averaging_interval: not averaged\n",
       "    serial_number: N/A\n",
       "    datastream: enaaosuhsasC1.a1\n",
       "    history: created by user dsmgr on machine ruby at 2016-08-20 01:44:01, using ingest-aos-14.17-0.el6"
      ]
     },
     "execution_count": 137,
     "metadata": {},
     "output_type": "execute_result"
    }
   ],
   "source": [
    "d"
   ]
  }
 ],
 "metadata": {
  "anaconda-cloud": {},
  "kernelspec": {
   "display_name": "Python [default]",
   "language": "python",
   "name": "python3"
  },
  "language_info": {
   "codemirror_mode": {
    "name": "ipython",
    "version": 3
   },
   "file_extension": ".py",
   "mimetype": "text/x-python",
   "name": "python",
   "nbconvert_exporter": "python",
   "pygments_lexer": "ipython3",
   "version": "3.5.2"
  }
 },
 "nbformat": 4,
 "nbformat_minor": 1
}
