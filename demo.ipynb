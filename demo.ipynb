{
 "cells": [
  {
   "cell_type": "code",
   "execution_count": 1,
   "metadata": {
    "collapsed": false
   },
   "outputs": [
    {
     "name": "stdout",
     "output_type": "stream",
     "text": [
      "Python 3.5.1 :: Continuum Analytics, Inc.\r\n"
     ]
    }
   ],
   "source": [
    "!python --version"
   ]
  },
  {
   "cell_type": "code",
   "execution_count": 2,
   "metadata": {
    "collapsed": false
   },
   "outputs": [],
   "source": [
    "from pyadapt.tools import list_file_attributes\n",
    "from pyadapt import Datastream"
   ]
  },
  {
   "cell_type": "code",
   "execution_count": 3,
   "metadata": {
    "collapsed": true
   },
   "outputs": [],
   "source": [
    "sample_file = 'data/grwmetM1.b1.20100531.000000.cdf'"
   ]
  },
  {
   "cell_type": "code",
   "execution_count": 8,
   "metadata": {
    "collapsed": false
   },
   "outputs": [
    {
     "name": "stdout",
     "output_type": "stream",
     "text": [
      "+------------------------------------------+----------------------------------------+------------+\n",
      "| Name                                     | Units                                  | Dimensions |\n",
      "+------------------------------------------+----------------------------------------+------------+\n",
      "| 1 HOUR PRESENT WEATHER CODE              | none                                   | ('time',)  |\n",
      "|   'pwd_pw_code_1_hr'                     |                                        |            |\n",
      "+------------------------------------------+----------------------------------------+------------+\n",
      "| 1 MINUTE AVERAGE WATER INTENSITY         | mm/hr                                  | ('time',)  |\n",
      "|   'pwd_avg_H2O_int_1_min'                |                                        |            |\n",
      "+------------------------------------------+----------------------------------------+------------+\n",
      "| 15 MIN PRESENT WEATHER CODE              | none                                   | ('time',)  |\n",
      "|   'pwd_pw_code_15_min'                   |                                        |            |\n",
      "+------------------------------------------+----------------------------------------+------------+\n",
      "| ALTITUDE                                 | meters above Mean Sea Level            | ()         |\n",
      "|   'alt'                                  |                                        |            |\n",
      "+------------------------------------------+----------------------------------------+------------+\n",
      "| ATMOSPHERIC PRESSURE                     | kPa                                    | ('time',)  |\n",
      "|   'atmos_pressure'                       |                                        |            |\n",
      "+------------------------------------------+----------------------------------------+------------+\n",
      "| AVERAGE 1 MIN VISIBILITY                 | m                                      | ('time',)  |\n",
      "|   'pwd_avg_vis_1_min'                    |                                        |            |\n",
      "+------------------------------------------+----------------------------------------+------------+\n",
      "| AVERAGE 10 MIN VISIBILITY                | m                                      | ('time',)  |\n",
      "|   'pwd_avg_vis_10_min'                   |                                        |            |\n",
      "+------------------------------------------+----------------------------------------+------------+\n",
      "| BASE TIME IN EPOCH                       | seconds since 1970-1-1 0:00:00 0:00    | ()         |\n",
      "|   'base_time'                            |                                        |            |\n",
      "+------------------------------------------+----------------------------------------+------------+\n",
      "| CUMULATIVE SNOW                          | mm                                     | ('time',)  |\n",
      "|   'pwd_cumul_snow'                       |                                        |            |\n",
      "+------------------------------------------+----------------------------------------+------------+\n",
      "| CUMULATIVE WATER                         | mm                                     | ('time',)  |\n",
      "|   'pwd_cumul_water'                      |                                        |            |\n",
      "+------------------------------------------+----------------------------------------+------------+\n",
      "| EAST LONGITUDE                           | degrees                                | ()         |\n",
      "|   'lon'                                  |                                        |            |\n",
      "+------------------------------------------+----------------------------------------+------------+\n",
      "| INSTANTANEOUS PRESENT WEATHER CODE       | none                                   | ('time',)  |\n",
      "|   'pwd_pw_code_inst'                     |                                        |            |\n",
      "+------------------------------------------+----------------------------------------+------------+\n",
      "| LOGGER TEMPERATURE                       | C                                      | ('time',)  |\n",
      "|   'logger_temp'                          |                                        |            |\n",
      "+------------------------------------------+----------------------------------------+------------+\n",
      "| LOGGER VOLTAGE                           | V                                      | ('time',)  |\n",
      "|   'logger_voltage'                       |                                        |            |\n",
      "+------------------------------------------+----------------------------------------+------------+\n",
      "| NORTH LATITUDE                           | degrees                                | ()         |\n",
      "|   'lat'                                  |                                        |            |\n",
      "+------------------------------------------+----------------------------------------+------------+\n",
      "| ORG CARRIER MEAN                         | mV                                     | ('time',)  |\n",
      "|   'org_carrier_mean'                     |                                        |            |\n",
      "+------------------------------------------+----------------------------------------+------------+\n",
      "| PRECIPITATION RATE MAXIMUM               | mm/hr                                  | ('time',)  |\n",
      "|   'precip_rate_max'                      |                                        |            |\n",
      "+------------------------------------------+----------------------------------------+------------+\n",
      "| PRECIPITATION RATE MEAN                  | mm/hr                                  | ('time',)  |\n",
      "|   'precip_rate_mean'                     |                                        |            |\n",
      "+------------------------------------------+----------------------------------------+------------+\n",
      "| PRECIPITATION RATE MINIMUM               | mm/hr                                  | ('time',)  |\n",
      "|   'precip_rate_min'                      |                                        |            |\n",
      "+------------------------------------------+----------------------------------------+------------+\n",
      "| PRECIPITATION RATE STANDARD DEVIATION    | mm/hr                                  | ('time',)  |\n",
      "|   'precip_rate_sd'                       |                                        |            |\n",
      "+------------------------------------------+----------------------------------------+------------+\n",
      "| PRESENT WEATHER DETECTOR ERROR CODE      | none                                   | ('time',)  |\n",
      "|   'pwd_err_code'                         |                                        |            |\n",
      "+------------------------------------------+----------------------------------------+------------+\n",
      "| PRESENT WEATHER DETECTOR ID              | none                                   | ('time',)  |\n",
      "|   'pwd_id'                               |                                        |            |\n",
      "+------------------------------------------+----------------------------------------+------------+\n",
      "| RELATIVE HUMIDITY MEAN                   | %                                      | ('time',)  |\n",
      "|   'relh_mean'                            |                                        |            |\n",
      "+------------------------------------------+----------------------------------------+------------+\n",
      "| RELATIVE HUMIDITY STANDARD DEVIATION     | %                                      | ('time',)  |\n",
      "|   'relh_sd'                              |                                        |            |\n",
      "+------------------------------------------+----------------------------------------+------------+\n",
      "| TEMPERATURE MEAN                         | C                                      | ('time',)  |\n",
      "|   'temp_mean'                            |                                        |            |\n",
      "+------------------------------------------+----------------------------------------+------------+\n",
      "| TEMPERATURE STANDARD DEVIATION           | C                                      | ('time',)  |\n",
      "|   'temp_sd'                              |                                        |            |\n",
      "+------------------------------------------+----------------------------------------+------------+\n",
      "| TIME OFFSET FROM BASE_TIME               | seconds since 2010-05-31 00:00:00 0:00 | ('time',)  |\n",
      "|   'time_offset'                          |                                        |            |\n",
      "+------------------------------------------+----------------------------------------+------------+\n",
      "| TIME OFFSET FROM MIDNIGHT                | seconds since 2010-05-31 00:00:00 0:00 | ('time',)  |\n",
      "|   'time'                                 |                                        |            |\n",
      "+------------------------------------------+----------------------------------------+------------+\n",
      "| VAPOR PRESSURE MEAN                      | kPa                                    | ('time',)  |\n",
      "|   'vappress_mean'                        |                                        |            |\n",
      "+------------------------------------------+----------------------------------------+------------+\n",
      "| VAPOR PRESSURE STANDARD DEVIATION        | kPa                                    | ('time',)  |\n",
      "|   'vappress_sd'                          |                                        |            |\n",
      "+------------------------------------------+----------------------------------------+------------+\n",
      "| WIND DIRECTION STANDARD DEVIATION        | deg                                    | ('time',)  |\n",
      "|   'wind_dir_sd'                          |                                        |            |\n",
      "+------------------------------------------+----------------------------------------+------------+\n",
      "| WIND DIRECTION VECTOR AVERAGE            | deg                                    | ('time',)  |\n",
      "|   'wind_dir_vec_avg'                     |                                        |            |\n",
      "+------------------------------------------+----------------------------------------+------------+\n",
      "| WIND SPEED ARITHMETIC AVERAGE            | m/s                                    | ('time',)  |\n",
      "|   'wind_spd_arith_avg'                   |                                        |            |\n",
      "+------------------------------------------+----------------------------------------+------------+\n",
      "| WIND SPEED ARITHMETIC MAXIMUM            | m/s                                    | ('time',)  |\n",
      "|   'wind_spd_arith_max'                   |                                        |            |\n",
      "+------------------------------------------+----------------------------------------+------------+\n",
      "| WIND SPEED ARITHMETIC MINIMUM            | m/s                                    | ('time',)  |\n",
      "|   'wind_spd_arith_min'                   |                                        |            |\n",
      "+------------------------------------------+----------------------------------------+------------+\n",
      "| WIND SPEED ARITHMETIC STANDARD DEVIATION | m/s                                    | ('time',)  |\n",
      "|   'wind_spd_arith_sd'                    |                                        |            |\n",
      "+------------------------------------------+----------------------------------------+------------+\n",
      "| WIND SPEED VECTOR AVERAGE                | m/s                                    | ('time',)  |\n",
      "|   'wind_spd_vec_avg'                     |                                        |            |\n",
      "+------------------------------------------+----------------------------------------+------------+\n"
     ]
    },
    {
     "ename": "NameError",
     "evalue": "name 'head' is not defined",
     "output_type": "error",
     "traceback": [
      "\u001b[0;31m---------------------------------------------------------------------------\u001b[0m",
      "\u001b[0;31mNameError\u001b[0m                                 Traceback (most recent call last)",
      "\u001b[0;32m<ipython-input-8-62bd5dcd0ff3>\u001b[0m in \u001b[0;36m<module>\u001b[0;34m()\u001b[0m\n\u001b[0;32m----> 1\u001b[0;31m \u001b[0mlist_file_attributes\u001b[0m\u001b[0;34m(\u001b[0m\u001b[0msample_file\u001b[0m\u001b[0;34m,\u001b[0m \u001b[0mexclude\u001b[0m\u001b[0;34m=\u001b[0m\u001b[0;34m[\u001b[0m\u001b[0;34m'qc*'\u001b[0m\u001b[0;34m]\u001b[0m\u001b[0;34m)\u001b[0m \u001b[0;34m|\u001b[0m \u001b[0mhead\u001b[0m\u001b[0;34m\u001b[0m\u001b[0m\n\u001b[0m",
      "\u001b[0;31mNameError\u001b[0m: name 'head' is not defined"
     ]
    }
   ],
   "source": [
    "list_file_attributes(sample_file, exclude=['qc*'])"
   ]
  },
  {
   "cell_type": "code",
   "execution_count": 5,
   "metadata": {
    "collapsed": false
   },
   "outputs": [
    {
     "name": "stdout",
     "output_type": "stream",
     "text": [
      "grwmetM1.b1.20100531.000000.cdf\n",
      "  *Precip Rate\n",
      "  *Wind Direction\n",
      "  *Dummy\n",
      "  *Wind Speed\n"
     ]
    }
   ],
   "source": [
    "varlist = {'Wind Speed': 'wind_spd_vec_avg', \n",
    "           'Wind Direction': 'wind_dir_vec_avg', \n",
    "           'Precip Rate': 'precip_rate_mean',\n",
    "           'Dummy': 'this_does_not_exist'}\n",
    "\n",
    "D = Datastream(sample_file, varlist=varlist)\n",
    "print(D)"
   ]
  },
  {
   "cell_type": "code",
   "execution_count": 6,
   "metadata": {
    "collapsed": false
   },
   "outputs": [
    {
     "data": {
      "text/html": [
       "<div>\n",
       "<table border=\"1\" class=\"dataframe\">\n",
       "  <thead>\n",
       "    <tr style=\"text-align: right;\">\n",
       "      <th></th>\n",
       "      <th>Precip Rate</th>\n",
       "      <th>Wind Direction</th>\n",
       "      <th>Wind Speed</th>\n",
       "    </tr>\n",
       "  </thead>\n",
       "  <tbody>\n",
       "    <tr>\n",
       "      <th>2010-05-31 00:00:00</th>\n",
       "      <td>0.0</td>\n",
       "      <td>217.100006</td>\n",
       "      <td>6.631</td>\n",
       "    </tr>\n",
       "    <tr>\n",
       "      <th>2010-05-31 00:01:00</th>\n",
       "      <td>0.0</td>\n",
       "      <td>219.399994</td>\n",
       "      <td>6.415</td>\n",
       "    </tr>\n",
       "    <tr>\n",
       "      <th>2010-05-31 00:02:00</th>\n",
       "      <td>0.0</td>\n",
       "      <td>220.899994</td>\n",
       "      <td>5.565</td>\n",
       "    </tr>\n",
       "    <tr>\n",
       "      <th>2010-05-31 00:03:00</th>\n",
       "      <td>0.0</td>\n",
       "      <td>217.199997</td>\n",
       "      <td>5.125</td>\n",
       "    </tr>\n",
       "    <tr>\n",
       "      <th>2010-05-31 00:04:00</th>\n",
       "      <td>0.0</td>\n",
       "      <td>222.300003</td>\n",
       "      <td>5.532</td>\n",
       "    </tr>\n",
       "  </tbody>\n",
       "</table>\n",
       "</div>"
      ],
      "text/plain": [
       "                     Precip Rate  Wind Direction  Wind Speed\n",
       "2010-05-31 00:00:00          0.0      217.100006       6.631\n",
       "2010-05-31 00:01:00          0.0      219.399994       6.415\n",
       "2010-05-31 00:02:00          0.0      220.899994       5.565\n",
       "2010-05-31 00:03:00          0.0      217.199997       5.125\n",
       "2010-05-31 00:04:00          0.0      222.300003       5.532"
      ]
     },
     "execution_count": 6,
     "metadata": {},
     "output_type": "execute_result"
    }
   ],
   "source": [
    "D.data.head()"
   ]
  },
  {
   "cell_type": "code",
   "execution_count": 7,
   "metadata": {
    "collapsed": false
   },
   "outputs": [
    {
     "data": {
      "text/html": [
       "<div>\n",
       "<table border=\"1\" class=\"dataframe\">\n",
       "  <thead>\n",
       "    <tr style=\"text-align: right;\">\n",
       "      <th></th>\n",
       "      <th>Dummy</th>\n",
       "      <th>Precip Rate</th>\n",
       "      <th>Wind Direction</th>\n",
       "      <th>Wind Speed</th>\n",
       "    </tr>\n",
       "  </thead>\n",
       "  <tbody>\n",
       "    <tr>\n",
       "      <th>2010-05-31 00:00:00</th>\n",
       "      <td>NaN</td>\n",
       "      <td>0.0</td>\n",
       "      <td>217.100006</td>\n",
       "      <td>6.631</td>\n",
       "    </tr>\n",
       "    <tr>\n",
       "      <th>2010-05-31 00:01:00</th>\n",
       "      <td>NaN</td>\n",
       "      <td>0.0</td>\n",
       "      <td>219.399994</td>\n",
       "      <td>6.415</td>\n",
       "    </tr>\n",
       "    <tr>\n",
       "      <th>2010-05-31 00:02:00</th>\n",
       "      <td>NaN</td>\n",
       "      <td>0.0</td>\n",
       "      <td>220.899994</td>\n",
       "      <td>5.565</td>\n",
       "    </tr>\n",
       "    <tr>\n",
       "      <th>2010-05-31 00:03:00</th>\n",
       "      <td>NaN</td>\n",
       "      <td>0.0</td>\n",
       "      <td>217.199997</td>\n",
       "      <td>5.125</td>\n",
       "    </tr>\n",
       "    <tr>\n",
       "      <th>2010-05-31 00:04:00</th>\n",
       "      <td>NaN</td>\n",
       "      <td>0.0</td>\n",
       "      <td>222.300003</td>\n",
       "      <td>5.532</td>\n",
       "    </tr>\n",
       "  </tbody>\n",
       "</table>\n",
       "</div>"
      ],
      "text/plain": [
       "                     Dummy  Precip Rate  Wind Direction  Wind Speed\n",
       "2010-05-31 00:00:00    NaN          0.0      217.100006       6.631\n",
       "2010-05-31 00:01:00    NaN          0.0      219.399994       6.415\n",
       "2010-05-31 00:02:00    NaN          0.0      220.899994       5.565\n",
       "2010-05-31 00:03:00    NaN          0.0      217.199997       5.125\n",
       "2010-05-31 00:04:00    NaN          0.0      222.300003       5.532"
      ]
     },
     "execution_count": 7,
     "metadata": {},
     "output_type": "execute_result"
    }
   ],
   "source": [
    "D = Datastream(sample_file, varlist=varlist, keep_nan_vars=True)\n",
    "D.data.head()"
   ]
  }
 ],
 "metadata": {
  "kernelspec": {
   "display_name": "Python 3",
   "language": "python",
   "name": "python3"
  },
  "language_info": {
   "codemirror_mode": {
    "name": "ipython",
    "version": 3
   },
   "file_extension": ".py",
   "mimetype": "text/x-python",
   "name": "python",
   "nbconvert_exporter": "python",
   "pygments_lexer": "ipython3",
   "version": "3.5.1"
  }
 },
 "nbformat": 4,
 "nbformat_minor": 0
}
